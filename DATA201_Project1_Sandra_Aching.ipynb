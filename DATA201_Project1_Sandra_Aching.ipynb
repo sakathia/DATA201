{
  "nbformat": 4,
  "nbformat_minor": 0,
  "metadata": {
    "colab": {
      "provenance": [],
      "authorship_tag": "ABX9TyPHnJ76Zy5u8kmEROx4nIza",
      "include_colab_link": true
    },
    "kernelspec": {
      "name": "python3",
      "display_name": "Python 3"
    },
    "language_info": {
      "name": "python"
    }
  },
  "cells": [
    {
      "cell_type": "markdown",
      "metadata": {
        "id": "view-in-github",
        "colab_type": "text"
      },
      "source": [
        "<a href=\"https://colab.research.google.com/github/sakathia/DATA201/blob/main/DATA201_Project1_Sandra_Aching.ipynb\" target=\"_parent\"><img src=\"https://colab.research.google.com/assets/colab-badge.svg\" alt=\"Open In Colab\"/></a>"
      ]
    },
    {
      "cell_type": "markdown",
      "source": [
        "# Project 1: Top 1000 Movies in IMDb\n",
        "![IMDB_Logo_2016.png](data:image/png;base64,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)\n",
        "## Introduction:\n",
        "IMDb is the free online database that holds information about all kinds of movies and shows that users can access. IMDb stands for the Internet Movie Database. This dataset covers the information and features of 1000 movies released between the years 1920 through 2020. I chose this dataset because I wanted to have an understanding of what makes a movie popular.\n",
        "\n",
        "Kaggle: https://www.kaggle.com/datasets/harshitshankhdhar/imdb-dataset-of-top-1000-movies-and-tv-shows\n",
        "\n",
        "##Questions:\n",
        "Which movies genres are the most popular among the top 1000 movies in IMDb?\n",
        "\n",
        "Do certain directors have more movies that have a higher rating and money earned for movies than others?"
      ],
      "metadata": {
        "id": "YZQyCdkWxKA2"
      }
    },
    {
      "cell_type": "markdown",
      "source": [
        "## EDA Process:\n",
        "Since I wanted to understand what makes a movie popular and also an understanding of the data provided, I will focus on the impact that a movie's features has on its popularity. Therefore, I will start I will start with loading the dataset and seeing the top 5 rows to get an understanding of the data."
      ],
      "metadata": {
        "id": "vIDPEnun0ZuH"
      }
    },
    {
      "cell_type": "code",
      "execution_count": 1,
      "metadata": {
        "colab": {
          "base_uri": "https://localhost:8080/",
          "height": 678
        },
        "id": "5WpeYFZWwxJR",
        "outputId": "bcea1834-5ffe-4191-cd8a-f66690dd2656"
      },
      "outputs": [
        {
          "output_type": "execute_result",
          "data": {
            "text/plain": [
              "                                         Poster_Link  \\\n",
              "0  https://m.media-amazon.com/images/M/MV5BMDFkYT...   \n",
              "1  https://m.media-amazon.com/images/M/MV5BM2MyNj...   \n",
              "2  https://m.media-amazon.com/images/M/MV5BMTMxNT...   \n",
              "3  https://m.media-amazon.com/images/M/MV5BMWMwMG...   \n",
              "4  https://m.media-amazon.com/images/M/MV5BMWU4N2...   \n",
              "\n",
              "               Series_Title Released_Year Certificate  Runtime  \\\n",
              "0  The Shawshank Redemption          1994           A  142 min   \n",
              "1             The Godfather          1972           A  175 min   \n",
              "2           The Dark Knight          2008          UA  152 min   \n",
              "3    The Godfather: Part II          1974           A  202 min   \n",
              "4              12 Angry Men          1957           U   96 min   \n",
              "\n",
              "                  Genre  IMDB_Rating  \\\n",
              "0                 Drama          9.3   \n",
              "1          Crime, Drama          9.2   \n",
              "2  Action, Crime, Drama          9.0   \n",
              "3          Crime, Drama          9.0   \n",
              "4          Crime, Drama          9.0   \n",
              "\n",
              "                                            Overview  Meta_score  \\\n",
              "0  Two imprisoned men bond over a number of years...        80.0   \n",
              "1  An organized crime dynasty's aging patriarch t...       100.0   \n",
              "2  When the menace known as the Joker wreaks havo...        84.0   \n",
              "3  The early life and career of Vito Corleone in ...        90.0   \n",
              "4  A jury holdout attempts to prevent a miscarria...        96.0   \n",
              "\n",
              "               Director           Star1           Star2          Star3  \\\n",
              "0        Frank Darabont     Tim Robbins  Morgan Freeman     Bob Gunton   \n",
              "1  Francis Ford Coppola   Marlon Brando       Al Pacino     James Caan   \n",
              "2     Christopher Nolan  Christian Bale    Heath Ledger  Aaron Eckhart   \n",
              "3  Francis Ford Coppola       Al Pacino  Robert De Niro  Robert Duvall   \n",
              "4          Sidney Lumet     Henry Fonda     Lee J. Cobb  Martin Balsam   \n",
              "\n",
              "            Star4  No_of_Votes        Gross  \n",
              "0  William Sadler      2343110   28,341,469  \n",
              "1    Diane Keaton      1620367  134,966,411  \n",
              "2   Michael Caine      2303232  534,858,444  \n",
              "3    Diane Keaton      1129952   57,300,000  \n",
              "4    John Fiedler       689845    4,360,000  "
            ],
            "text/html": [
              "\n",
              "  <div id=\"df-1861691e-d4b0-4ae7-8c41-c988fc92c83d\" class=\"colab-df-container\">\n",
              "    <div>\n",
              "<style scoped>\n",
              "    .dataframe tbody tr th:only-of-type {\n",
              "        vertical-align: middle;\n",
              "    }\n",
              "\n",
              "    .dataframe tbody tr th {\n",
              "        vertical-align: top;\n",
              "    }\n",
              "\n",
              "    .dataframe thead th {\n",
              "        text-align: right;\n",
              "    }\n",
              "</style>\n",
              "<table border=\"1\" class=\"dataframe\">\n",
              "  <thead>\n",
              "    <tr style=\"text-align: right;\">\n",
              "      <th></th>\n",
              "      <th>Poster_Link</th>\n",
              "      <th>Series_Title</th>\n",
              "      <th>Released_Year</th>\n",
              "      <th>Certificate</th>\n",
              "      <th>Runtime</th>\n",
              "      <th>Genre</th>\n",
              "      <th>IMDB_Rating</th>\n",
              "      <th>Overview</th>\n",
              "      <th>Meta_score</th>\n",
              "      <th>Director</th>\n",
              "      <th>Star1</th>\n",
              "      <th>Star2</th>\n",
              "      <th>Star3</th>\n",
              "      <th>Star4</th>\n",
              "      <th>No_of_Votes</th>\n",
              "      <th>Gross</th>\n",
              "    </tr>\n",
              "  </thead>\n",
              "  <tbody>\n",
              "    <tr>\n",
              "      <th>0</th>\n",
              "      <td>https://m.media-amazon.com/images/M/MV5BMDFkYT...</td>\n",
              "      <td>The Shawshank Redemption</td>\n",
              "      <td>1994</td>\n",
              "      <td>A</td>\n",
              "      <td>142 min</td>\n",
              "      <td>Drama</td>\n",
              "      <td>9.3</td>\n",
              "      <td>Two imprisoned men bond over a number of years...</td>\n",
              "      <td>80.0</td>\n",
              "      <td>Frank Darabont</td>\n",
              "      <td>Tim Robbins</td>\n",
              "      <td>Morgan Freeman</td>\n",
              "      <td>Bob Gunton</td>\n",
              "      <td>William Sadler</td>\n",
              "      <td>2343110</td>\n",
              "      <td>28,341,469</td>\n",
              "    </tr>\n",
              "    <tr>\n",
              "      <th>1</th>\n",
              "      <td>https://m.media-amazon.com/images/M/MV5BM2MyNj...</td>\n",
              "      <td>The Godfather</td>\n",
              "      <td>1972</td>\n",
              "      <td>A</td>\n",
              "      <td>175 min</td>\n",
              "      <td>Crime, Drama</td>\n",
              "      <td>9.2</td>\n",
              "      <td>An organized crime dynasty's aging patriarch t...</td>\n",
              "      <td>100.0</td>\n",
              "      <td>Francis Ford Coppola</td>\n",
              "      <td>Marlon Brando</td>\n",
              "      <td>Al Pacino</td>\n",
              "      <td>James Caan</td>\n",
              "      <td>Diane Keaton</td>\n",
              "      <td>1620367</td>\n",
              "      <td>134,966,411</td>\n",
              "    </tr>\n",
              "    <tr>\n",
              "      <th>2</th>\n",
              "      <td>https://m.media-amazon.com/images/M/MV5BMTMxNT...</td>\n",
              "      <td>The Dark Knight</td>\n",
              "      <td>2008</td>\n",
              "      <td>UA</td>\n",
              "      <td>152 min</td>\n",
              "      <td>Action, Crime, Drama</td>\n",
              "      <td>9.0</td>\n",
              "      <td>When the menace known as the Joker wreaks havo...</td>\n",
              "      <td>84.0</td>\n",
              "      <td>Christopher Nolan</td>\n",
              "      <td>Christian Bale</td>\n",
              "      <td>Heath Ledger</td>\n",
              "      <td>Aaron Eckhart</td>\n",
              "      <td>Michael Caine</td>\n",
              "      <td>2303232</td>\n",
              "      <td>534,858,444</td>\n",
              "    </tr>\n",
              "    <tr>\n",
              "      <th>3</th>\n",
              "      <td>https://m.media-amazon.com/images/M/MV5BMWMwMG...</td>\n",
              "      <td>The Godfather: Part II</td>\n",
              "      <td>1974</td>\n",
              "      <td>A</td>\n",
              "      <td>202 min</td>\n",
              "      <td>Crime, Drama</td>\n",
              "      <td>9.0</td>\n",
              "      <td>The early life and career of Vito Corleone in ...</td>\n",
              "      <td>90.0</td>\n",
              "      <td>Francis Ford Coppola</td>\n",
              "      <td>Al Pacino</td>\n",
              "      <td>Robert De Niro</td>\n",
              "      <td>Robert Duvall</td>\n",
              "      <td>Diane Keaton</td>\n",
              "      <td>1129952</td>\n",
              "      <td>57,300,000</td>\n",
              "    </tr>\n",
              "    <tr>\n",
              "      <th>4</th>\n",
              "      <td>https://m.media-amazon.com/images/M/MV5BMWU4N2...</td>\n",
              "      <td>12 Angry Men</td>\n",
              "      <td>1957</td>\n",
              "      <td>U</td>\n",
              "      <td>96 min</td>\n",
              "      <td>Crime, Drama</td>\n",
              "      <td>9.0</td>\n",
              "      <td>A jury holdout attempts to prevent a miscarria...</td>\n",
              "      <td>96.0</td>\n",
              "      <td>Sidney Lumet</td>\n",
              "      <td>Henry Fonda</td>\n",
              "      <td>Lee J. Cobb</td>\n",
              "      <td>Martin Balsam</td>\n",
              "      <td>John Fiedler</td>\n",
              "      <td>689845</td>\n",
              "      <td>4,360,000</td>\n",
              "    </tr>\n",
              "  </tbody>\n",
              "</table>\n",
              "</div>\n",
              "    <div class=\"colab-df-buttons\">\n",
              "\n",
              "  <div class=\"colab-df-container\">\n",
              "    <button class=\"colab-df-convert\" onclick=\"convertToInteractive('df-1861691e-d4b0-4ae7-8c41-c988fc92c83d')\"\n",
              "            title=\"Convert this dataframe to an interactive table.\"\n",
              "            style=\"display:none;\">\n",
              "\n",
              "  <svg xmlns=\"http://www.w3.org/2000/svg\" height=\"24px\" viewBox=\"0 -960 960 960\">\n",
              "    <path d=\"M120-120v-720h720v720H120Zm60-500h600v-160H180v160Zm220 220h160v-160H400v160Zm0 220h160v-160H400v160ZM180-400h160v-160H180v160Zm440 0h160v-160H620v160ZM180-180h160v-160H180v160Zm440 0h160v-160H620v160Z\"/>\n",
              "  </svg>\n",
              "    </button>\n",
              "\n",
              "  <style>\n",
              "    .colab-df-container {\n",
              "      display:flex;\n",
              "      gap: 12px;\n",
              "    }\n",
              "\n",
              "    .colab-df-convert {\n",
              "      background-color: #E8F0FE;\n",
              "      border: none;\n",
              "      border-radius: 50%;\n",
              "      cursor: pointer;\n",
              "      display: none;\n",
              "      fill: #1967D2;\n",
              "      height: 32px;\n",
              "      padding: 0 0 0 0;\n",
              "      width: 32px;\n",
              "    }\n",
              "\n",
              "    .colab-df-convert:hover {\n",
              "      background-color: #E2EBFA;\n",
              "      box-shadow: 0px 1px 2px rgba(60, 64, 67, 0.3), 0px 1px 3px 1px rgba(60, 64, 67, 0.15);\n",
              "      fill: #174EA6;\n",
              "    }\n",
              "\n",
              "    .colab-df-buttons div {\n",
              "      margin-bottom: 4px;\n",
              "    }\n",
              "\n",
              "    [theme=dark] .colab-df-convert {\n",
              "      background-color: #3B4455;\n",
              "      fill: #D2E3FC;\n",
              "    }\n",
              "\n",
              "    [theme=dark] .colab-df-convert:hover {\n",
              "      background-color: #434B5C;\n",
              "      box-shadow: 0px 1px 3px 1px rgba(0, 0, 0, 0.15);\n",
              "      filter: drop-shadow(0px 1px 2px rgba(0, 0, 0, 0.3));\n",
              "      fill: #FFFFFF;\n",
              "    }\n",
              "  </style>\n",
              "\n",
              "    <script>\n",
              "      const buttonEl =\n",
              "        document.querySelector('#df-1861691e-d4b0-4ae7-8c41-c988fc92c83d button.colab-df-convert');\n",
              "      buttonEl.style.display =\n",
              "        google.colab.kernel.accessAllowed ? 'block' : 'none';\n",
              "\n",
              "      async function convertToInteractive(key) {\n",
              "        const element = document.querySelector('#df-1861691e-d4b0-4ae7-8c41-c988fc92c83d');\n",
              "        const dataTable =\n",
              "          await google.colab.kernel.invokeFunction('convertToInteractive',\n",
              "                                                    [key], {});\n",
              "        if (!dataTable) return;\n",
              "\n",
              "        const docLinkHtml = 'Like what you see? Visit the ' +\n",
              "          '<a target=\"_blank\" href=https://colab.research.google.com/notebooks/data_table.ipynb>data table notebook</a>'\n",
              "          + ' to learn more about interactive tables.';\n",
              "        element.innerHTML = '';\n",
              "        dataTable['output_type'] = 'display_data';\n",
              "        await google.colab.output.renderOutput(dataTable, element);\n",
              "        const docLink = document.createElement('div');\n",
              "        docLink.innerHTML = docLinkHtml;\n",
              "        element.appendChild(docLink);\n",
              "      }\n",
              "    </script>\n",
              "  </div>\n",
              "\n",
              "\n",
              "<div id=\"df-7f7437b2-9a51-42a1-a154-957a6043b7d4\">\n",
              "  <button class=\"colab-df-quickchart\" onclick=\"quickchart('df-7f7437b2-9a51-42a1-a154-957a6043b7d4')\"\n",
              "            title=\"Suggest charts\"\n",
              "            style=\"display:none;\">\n",
              "\n",
              "<svg xmlns=\"http://www.w3.org/2000/svg\" height=\"24px\"viewBox=\"0 0 24 24\"\n",
              "     width=\"24px\">\n",
              "    <g>\n",
              "        <path d=\"M19 3H5c-1.1 0-2 .9-2 2v14c0 1.1.9 2 2 2h14c1.1 0 2-.9 2-2V5c0-1.1-.9-2-2-2zM9 17H7v-7h2v7zm4 0h-2V7h2v10zm4 0h-2v-4h2v4z\"/>\n",
              "    </g>\n",
              "</svg>\n",
              "  </button>\n",
              "\n",
              "<style>\n",
              "  .colab-df-quickchart {\n",
              "      --bg-color: #E8F0FE;\n",
              "      --fill-color: #1967D2;\n",
              "      --hover-bg-color: #E2EBFA;\n",
              "      --hover-fill-color: #174EA6;\n",
              "      --disabled-fill-color: #AAA;\n",
              "      --disabled-bg-color: #DDD;\n",
              "  }\n",
              "\n",
              "  [theme=dark] .colab-df-quickchart {\n",
              "      --bg-color: #3B4455;\n",
              "      --fill-color: #D2E3FC;\n",
              "      --hover-bg-color: #434B5C;\n",
              "      --hover-fill-color: #FFFFFF;\n",
              "      --disabled-bg-color: #3B4455;\n",
              "      --disabled-fill-color: #666;\n",
              "  }\n",
              "\n",
              "  .colab-df-quickchart {\n",
              "    background-color: var(--bg-color);\n",
              "    border: none;\n",
              "    border-radius: 50%;\n",
              "    cursor: pointer;\n",
              "    display: none;\n",
              "    fill: var(--fill-color);\n",
              "    height: 32px;\n",
              "    padding: 0;\n",
              "    width: 32px;\n",
              "  }\n",
              "\n",
              "  .colab-df-quickchart:hover {\n",
              "    background-color: var(--hover-bg-color);\n",
              "    box-shadow: 0 1px 2px rgba(60, 64, 67, 0.3), 0 1px 3px 1px rgba(60, 64, 67, 0.15);\n",
              "    fill: var(--button-hover-fill-color);\n",
              "  }\n",
              "\n",
              "  .colab-df-quickchart-complete:disabled,\n",
              "  .colab-df-quickchart-complete:disabled:hover {\n",
              "    background-color: var(--disabled-bg-color);\n",
              "    fill: var(--disabled-fill-color);\n",
              "    box-shadow: none;\n",
              "  }\n",
              "\n",
              "  .colab-df-spinner {\n",
              "    border: 2px solid var(--fill-color);\n",
              "    border-color: transparent;\n",
              "    border-bottom-color: var(--fill-color);\n",
              "    animation:\n",
              "      spin 1s steps(1) infinite;\n",
              "  }\n",
              "\n",
              "  @keyframes spin {\n",
              "    0% {\n",
              "      border-color: transparent;\n",
              "      border-bottom-color: var(--fill-color);\n",
              "      border-left-color: var(--fill-color);\n",
              "    }\n",
              "    20% {\n",
              "      border-color: transparent;\n",
              "      border-left-color: var(--fill-color);\n",
              "      border-top-color: var(--fill-color);\n",
              "    }\n",
              "    30% {\n",
              "      border-color: transparent;\n",
              "      border-left-color: var(--fill-color);\n",
              "      border-top-color: var(--fill-color);\n",
              "      border-right-color: var(--fill-color);\n",
              "    }\n",
              "    40% {\n",
              "      border-color: transparent;\n",
              "      border-right-color: var(--fill-color);\n",
              "      border-top-color: var(--fill-color);\n",
              "    }\n",
              "    60% {\n",
              "      border-color: transparent;\n",
              "      border-right-color: var(--fill-color);\n",
              "    }\n",
              "    80% {\n",
              "      border-color: transparent;\n",
              "      border-right-color: var(--fill-color);\n",
              "      border-bottom-color: var(--fill-color);\n",
              "    }\n",
              "    90% {\n",
              "      border-color: transparent;\n",
              "      border-bottom-color: var(--fill-color);\n",
              "    }\n",
              "  }\n",
              "</style>\n",
              "\n",
              "  <script>\n",
              "    async function quickchart(key) {\n",
              "      const quickchartButtonEl =\n",
              "        document.querySelector('#' + key + ' button');\n",
              "      quickchartButtonEl.disabled = true;  // To prevent multiple clicks.\n",
              "      quickchartButtonEl.classList.add('colab-df-spinner');\n",
              "      try {\n",
              "        const charts = await google.colab.kernel.invokeFunction(\n",
              "            'suggestCharts', [key], {});\n",
              "      } catch (error) {\n",
              "        console.error('Error during call to suggestCharts:', error);\n",
              "      }\n",
              "      quickchartButtonEl.classList.remove('colab-df-spinner');\n",
              "      quickchartButtonEl.classList.add('colab-df-quickchart-complete');\n",
              "    }\n",
              "    (() => {\n",
              "      let quickchartButtonEl =\n",
              "        document.querySelector('#df-7f7437b2-9a51-42a1-a154-957a6043b7d4 button');\n",
              "      quickchartButtonEl.style.display =\n",
              "        google.colab.kernel.accessAllowed ? 'block' : 'none';\n",
              "    })();\n",
              "  </script>\n",
              "</div>\n",
              "\n",
              "    </div>\n",
              "  </div>\n"
            ],
            "application/vnd.google.colaboratory.intrinsic+json": {
              "type": "dataframe",
              "variable_name": "top_movies",
              "summary": "{\n  \"name\": \"top_movies\",\n  \"rows\": 1000,\n  \"fields\": [\n    {\n      \"column\": \"Poster_Link\",\n      \"properties\": {\n        \"dtype\": \"string\",\n        \"num_unique_values\": 1000,\n        \"samples\": [\n          \"https://m.media-amazon.com/images/M/MV5BMjg5OGU4OGYtNTZmNy00MjQ1LWIzYzgtMTllMGY2NzlkNzYwXkEyXkFqcGdeQXVyMTI3ODAyMzE2._V1_UY98_CR2,0,67,98_AL_.jpg\",\n          \"https://m.media-amazon.com/images/M/MV5BMzA2NDkwODAwM15BMl5BanBnXkFtZTgwODk5MTgzMTE@._V1_UY98_CR0,0,67,98_AL_.jpg\",\n          \"https://m.media-amazon.com/images/M/MV5BNzMxNTExOTkyMF5BMl5BanBnXkFtZTcwMzEyNDc0OA@@._V1_UX67_CR0,0,67,98_AL_.jpg\"\n        ],\n        \"semantic_type\": \"\",\n        \"description\": \"\"\n      }\n    },\n    {\n      \"column\": \"Series_Title\",\n      \"properties\": {\n        \"dtype\": \"string\",\n        \"num_unique_values\": 999,\n        \"samples\": [\n          \"The Best Years of Our Lives\",\n          \"Hedwig and the Angry Inch\",\n          \"Gone Girl\"\n        ],\n        \"semantic_type\": \"\",\n        \"description\": \"\"\n      }\n    },\n    {\n      \"column\": \"Released_Year\",\n      \"properties\": {\n        \"dtype\": \"category\",\n        \"num_unique_values\": 100,\n        \"samples\": [\n          \"1934\",\n          \"1992\",\n          \"1989\"\n        ],\n        \"semantic_type\": \"\",\n        \"description\": \"\"\n      }\n    },\n    {\n      \"column\": \"Certificate\",\n      \"properties\": {\n        \"dtype\": \"category\",\n        \"num_unique_values\": 16,\n        \"samples\": [\n          \"A\",\n          \"UA\",\n          \"PG\"\n        ],\n        \"semantic_type\": \"\",\n        \"description\": \"\"\n      }\n    },\n    {\n      \"column\": \"Runtime\",\n      \"properties\": {\n        \"dtype\": \"category\",\n        \"num_unique_values\": 140,\n        \"samples\": [\n          \"205 min\",\n          \"129 min\",\n          \"112 min\"\n        ],\n        \"semantic_type\": \"\",\n        \"description\": \"\"\n      }\n    },\n    {\n      \"column\": \"Genre\",\n      \"properties\": {\n        \"dtype\": \"category\",\n        \"num_unique_values\": 202,\n        \"samples\": [\n          \"Comedy, Drama, Fantasy\",\n          \"Crime, Drama, Fantasy\",\n          \"Drama, Romance, War\"\n        ],\n        \"semantic_type\": \"\",\n        \"description\": \"\"\n      }\n    },\n    {\n      \"column\": \"IMDB_Rating\",\n      \"properties\": {\n        \"dtype\": \"number\",\n        \"std\": 0.27549120749200917,\n        \"min\": 7.6,\n        \"max\": 9.3,\n        \"num_unique_values\": 17,\n        \"samples\": [\n          9.3,\n          9.2,\n          8.7\n        ],\n        \"semantic_type\": \"\",\n        \"description\": \"\"\n      }\n    },\n    {\n      \"column\": \"Overview\",\n      \"properties\": {\n        \"dtype\": \"string\",\n        \"num_unique_values\": 1000,\n        \"samples\": [\n          \"A woman struggles to find a way to live her life after the death of her husband and child.\",\n          \"As Steve Rogers struggles to embrace his role in the modern world, he teams up with a fellow Avenger and S.H.I.E.L.D agent, Black Widow, to battle a new threat from history: an assassin known as the Winter Soldier.\",\n          \"A video game villain wants to be a hero and sets out to fulfill his dream, but his quest brings havoc to the whole arcade where he lives.\"\n        ],\n        \"semantic_type\": \"\",\n        \"description\": \"\"\n      }\n    },\n    {\n      \"column\": \"Meta_score\",\n      \"properties\": {\n        \"dtype\": \"number\",\n        \"std\": 12.376099328602022,\n        \"min\": 28.0,\n        \"max\": 100.0,\n        \"num_unique_values\": 63,\n        \"samples\": [\n          30.0,\n          52.0,\n          80.0\n        ],\n        \"semantic_type\": \"\",\n        \"description\": \"\"\n      }\n    },\n    {\n      \"column\": \"Director\",\n      \"properties\": {\n        \"dtype\": \"string\",\n        \"num_unique_values\": 548,\n        \"samples\": [\n          \"Satoshi Kon\",\n          \"David Lean\",\n          \"Yilmaz Erdogan\"\n        ],\n        \"semantic_type\": \"\",\n        \"description\": \"\"\n      }\n    },\n    {\n      \"column\": \"Star1\",\n      \"properties\": {\n        \"dtype\": \"string\",\n        \"num_unique_values\": 660,\n        \"samples\": [\n          \"Peter Dinklage\",\n          \"Josh O'Connor\",\n          \"Terry Jones\"\n        ],\n        \"semantic_type\": \"\",\n        \"description\": \"\"\n      }\n    },\n    {\n      \"column\": \"Star2\",\n      \"properties\": {\n        \"dtype\": \"string\",\n        \"num_unique_values\": 841,\n        \"samples\": [\n          \"Ruy Guerra\",\n          \"Meg Ryan\",\n          \"Donna Reed\"\n        ],\n        \"semantic_type\": \"\",\n        \"description\": \"\"\n      }\n    },\n    {\n      \"column\": \"Star3\",\n      \"properties\": {\n        \"dtype\": \"string\",\n        \"num_unique_values\": 891,\n        \"samples\": [\n          \"Giovanni Ribisi\",\n          \"Julia Greer\",\n          \"Naomi Watts\"\n        ],\n        \"semantic_type\": \"\",\n        \"description\": \"\"\n      }\n    },\n    {\n      \"column\": \"Star4\",\n      \"properties\": {\n        \"dtype\": \"string\",\n        \"num_unique_values\": 939,\n        \"samples\": [\n          \"Trevor Howard\",\n          \"Ulrich Tukur\",\n          \"Hemendra Dandotiya\"\n        ],\n        \"semantic_type\": \"\",\n        \"description\": \"\"\n      }\n    },\n    {\n      \"column\": \"No_of_Votes\",\n      \"properties\": {\n        \"dtype\": \"number\",\n        \"std\": 327372,\n        \"min\": 25088,\n        \"max\": 2343110,\n        \"num_unique_values\": 999,\n        \"samples\": [\n          42725,\n          31957,\n          707630\n        ],\n        \"semantic_type\": \"\",\n        \"description\": \"\"\n      }\n    },\n    {\n      \"column\": \"Gross\",\n      \"properties\": {\n        \"dtype\": \"string\",\n        \"num_unique_values\": 823,\n        \"samples\": [\n          \"132,092,958\",\n          \"67,209,615\",\n          \"78,900,000\"\n        ],\n        \"semantic_type\": \"\",\n        \"description\": \"\"\n      }\n    }\n  ]\n}"
            }
          },
          "metadata": {},
          "execution_count": 1
        }
      ],
      "source": [
        "#Importing and reading the Top 1000 IMDb movies dataset\n",
        "import pandas as pd\n",
        "import seaborn as sns\n",
        "import numpy as np\n",
        "import matplotlib.pyplot as plt\n",
        "\n",
        "top_movies=pd.read_csv('imdb_top_1000.csv')\n",
        "top_movies.head()"
      ]
    },
    {
      "cell_type": "markdown",
      "source": [
        "Then I wanted to see the shape of the data in terms of columns and rows."
      ],
      "metadata": {
        "id": "nZlPa-bN1Crw"
      }
    },
    {
      "cell_type": "code",
      "source": [
        "top_movies.shape"
      ],
      "metadata": {
        "colab": {
          "base_uri": "https://localhost:8080/"
        },
        "id": "eqNuL58rxtTf",
        "outputId": "2495b33c-6c85-4ffe-cd82-f7c6b26d178e"
      },
      "execution_count": 2,
      "outputs": [
        {
          "output_type": "execute_result",
          "data": {
            "text/plain": [
              "(1000, 16)"
            ]
          },
          "metadata": {},
          "execution_count": 2
        }
      ]
    },
    {
      "cell_type": "markdown",
      "source": [
        "From here we can see that there are 1000 rows corresponding to the number of movies and then 18 columns corresponding to the movie attributes and features. Then, I also wanted to see a summary statistics to understand how the data is distributed along the attributes"
      ],
      "metadata": {
        "id": "utOkVLXWjEYe"
      }
    },
    {
      "cell_type": "code",
      "source": [
        "top_movies.describe()"
      ],
      "metadata": {
        "colab": {
          "base_uri": "https://localhost:8080/",
          "height": 300
        },
        "id": "9Ayp6mWc1LT6",
        "outputId": "30ea14c0-46a0-4ca5-dcd3-91a9e0938b41"
      },
      "execution_count": 3,
      "outputs": [
        {
          "output_type": "execute_result",
          "data": {
            "text/plain": [
              "       IMDB_Rating  Meta_score   No_of_Votes\n",
              "count  1000.000000  843.000000  1.000000e+03\n",
              "mean      7.949300   77.971530  2.736929e+05\n",
              "std       0.275491   12.376099  3.273727e+05\n",
              "min       7.600000   28.000000  2.508800e+04\n",
              "25%       7.700000   70.000000  5.552625e+04\n",
              "50%       7.900000   79.000000  1.385485e+05\n",
              "75%       8.100000   87.000000  3.741612e+05\n",
              "max       9.300000  100.000000  2.343110e+06"
            ],
            "text/html": [
              "\n",
              "  <div id=\"df-4b4f50a7-eb31-41b2-b52e-0dd8d0d5ad9d\" class=\"colab-df-container\">\n",
              "    <div>\n",
              "<style scoped>\n",
              "    .dataframe tbody tr th:only-of-type {\n",
              "        vertical-align: middle;\n",
              "    }\n",
              "\n",
              "    .dataframe tbody tr th {\n",
              "        vertical-align: top;\n",
              "    }\n",
              "\n",
              "    .dataframe thead th {\n",
              "        text-align: right;\n",
              "    }\n",
              "</style>\n",
              "<table border=\"1\" class=\"dataframe\">\n",
              "  <thead>\n",
              "    <tr style=\"text-align: right;\">\n",
              "      <th></th>\n",
              "      <th>IMDB_Rating</th>\n",
              "      <th>Meta_score</th>\n",
              "      <th>No_of_Votes</th>\n",
              "    </tr>\n",
              "  </thead>\n",
              "  <tbody>\n",
              "    <tr>\n",
              "      <th>count</th>\n",
              "      <td>1000.000000</td>\n",
              "      <td>843.000000</td>\n",
              "      <td>1.000000e+03</td>\n",
              "    </tr>\n",
              "    <tr>\n",
              "      <th>mean</th>\n",
              "      <td>7.949300</td>\n",
              "      <td>77.971530</td>\n",
              "      <td>2.736929e+05</td>\n",
              "    </tr>\n",
              "    <tr>\n",
              "      <th>std</th>\n",
              "      <td>0.275491</td>\n",
              "      <td>12.376099</td>\n",
              "      <td>3.273727e+05</td>\n",
              "    </tr>\n",
              "    <tr>\n",
              "      <th>min</th>\n",
              "      <td>7.600000</td>\n",
              "      <td>28.000000</td>\n",
              "      <td>2.508800e+04</td>\n",
              "    </tr>\n",
              "    <tr>\n",
              "      <th>25%</th>\n",
              "      <td>7.700000</td>\n",
              "      <td>70.000000</td>\n",
              "      <td>5.552625e+04</td>\n",
              "    </tr>\n",
              "    <tr>\n",
              "      <th>50%</th>\n",
              "      <td>7.900000</td>\n",
              "      <td>79.000000</td>\n",
              "      <td>1.385485e+05</td>\n",
              "    </tr>\n",
              "    <tr>\n",
              "      <th>75%</th>\n",
              "      <td>8.100000</td>\n",
              "      <td>87.000000</td>\n",
              "      <td>3.741612e+05</td>\n",
              "    </tr>\n",
              "    <tr>\n",
              "      <th>max</th>\n",
              "      <td>9.300000</td>\n",
              "      <td>100.000000</td>\n",
              "      <td>2.343110e+06</td>\n",
              "    </tr>\n",
              "  </tbody>\n",
              "</table>\n",
              "</div>\n",
              "    <div class=\"colab-df-buttons\">\n",
              "\n",
              "  <div class=\"colab-df-container\">\n",
              "    <button class=\"colab-df-convert\" onclick=\"convertToInteractive('df-4b4f50a7-eb31-41b2-b52e-0dd8d0d5ad9d')\"\n",
              "            title=\"Convert this dataframe to an interactive table.\"\n",
              "            style=\"display:none;\">\n",
              "\n",
              "  <svg xmlns=\"http://www.w3.org/2000/svg\" height=\"24px\" viewBox=\"0 -960 960 960\">\n",
              "    <path d=\"M120-120v-720h720v720H120Zm60-500h600v-160H180v160Zm220 220h160v-160H400v160Zm0 220h160v-160H400v160ZM180-400h160v-160H180v160Zm440 0h160v-160H620v160ZM180-180h160v-160H180v160Zm440 0h160v-160H620v160Z\"/>\n",
              "  </svg>\n",
              "    </button>\n",
              "\n",
              "  <style>\n",
              "    .colab-df-container {\n",
              "      display:flex;\n",
              "      gap: 12px;\n",
              "    }\n",
              "\n",
              "    .colab-df-convert {\n",
              "      background-color: #E8F0FE;\n",
              "      border: none;\n",
              "      border-radius: 50%;\n",
              "      cursor: pointer;\n",
              "      display: none;\n",
              "      fill: #1967D2;\n",
              "      height: 32px;\n",
              "      padding: 0 0 0 0;\n",
              "      width: 32px;\n",
              "    }\n",
              "\n",
              "    .colab-df-convert:hover {\n",
              "      background-color: #E2EBFA;\n",
              "      box-shadow: 0px 1px 2px rgba(60, 64, 67, 0.3), 0px 1px 3px 1px rgba(60, 64, 67, 0.15);\n",
              "      fill: #174EA6;\n",
              "    }\n",
              "\n",
              "    .colab-df-buttons div {\n",
              "      margin-bottom: 4px;\n",
              "    }\n",
              "\n",
              "    [theme=dark] .colab-df-convert {\n",
              "      background-color: #3B4455;\n",
              "      fill: #D2E3FC;\n",
              "    }\n",
              "\n",
              "    [theme=dark] .colab-df-convert:hover {\n",
              "      background-color: #434B5C;\n",
              "      box-shadow: 0px 1px 3px 1px rgba(0, 0, 0, 0.15);\n",
              "      filter: drop-shadow(0px 1px 2px rgba(0, 0, 0, 0.3));\n",
              "      fill: #FFFFFF;\n",
              "    }\n",
              "  </style>\n",
              "\n",
              "    <script>\n",
              "      const buttonEl =\n",
              "        document.querySelector('#df-4b4f50a7-eb31-41b2-b52e-0dd8d0d5ad9d button.colab-df-convert');\n",
              "      buttonEl.style.display =\n",
              "        google.colab.kernel.accessAllowed ? 'block' : 'none';\n",
              "\n",
              "      async function convertToInteractive(key) {\n",
              "        const element = document.querySelector('#df-4b4f50a7-eb31-41b2-b52e-0dd8d0d5ad9d');\n",
              "        const dataTable =\n",
              "          await google.colab.kernel.invokeFunction('convertToInteractive',\n",
              "                                                    [key], {});\n",
              "        if (!dataTable) return;\n",
              "\n",
              "        const docLinkHtml = 'Like what you see? Visit the ' +\n",
              "          '<a target=\"_blank\" href=https://colab.research.google.com/notebooks/data_table.ipynb>data table notebook</a>'\n",
              "          + ' to learn more about interactive tables.';\n",
              "        element.innerHTML = '';\n",
              "        dataTable['output_type'] = 'display_data';\n",
              "        await google.colab.output.renderOutput(dataTable, element);\n",
              "        const docLink = document.createElement('div');\n",
              "        docLink.innerHTML = docLinkHtml;\n",
              "        element.appendChild(docLink);\n",
              "      }\n",
              "    </script>\n",
              "  </div>\n",
              "\n",
              "\n",
              "<div id=\"df-f6dc06ac-3488-4680-bbab-8e07f76015a0\">\n",
              "  <button class=\"colab-df-quickchart\" onclick=\"quickchart('df-f6dc06ac-3488-4680-bbab-8e07f76015a0')\"\n",
              "            title=\"Suggest charts\"\n",
              "            style=\"display:none;\">\n",
              "\n",
              "<svg xmlns=\"http://www.w3.org/2000/svg\" height=\"24px\"viewBox=\"0 0 24 24\"\n",
              "     width=\"24px\">\n",
              "    <g>\n",
              "        <path d=\"M19 3H5c-1.1 0-2 .9-2 2v14c0 1.1.9 2 2 2h14c1.1 0 2-.9 2-2V5c0-1.1-.9-2-2-2zM9 17H7v-7h2v7zm4 0h-2V7h2v10zm4 0h-2v-4h2v4z\"/>\n",
              "    </g>\n",
              "</svg>\n",
              "  </button>\n",
              "\n",
              "<style>\n",
              "  .colab-df-quickchart {\n",
              "      --bg-color: #E8F0FE;\n",
              "      --fill-color: #1967D2;\n",
              "      --hover-bg-color: #E2EBFA;\n",
              "      --hover-fill-color: #174EA6;\n",
              "      --disabled-fill-color: #AAA;\n",
              "      --disabled-bg-color: #DDD;\n",
              "  }\n",
              "\n",
              "  [theme=dark] .colab-df-quickchart {\n",
              "      --bg-color: #3B4455;\n",
              "      --fill-color: #D2E3FC;\n",
              "      --hover-bg-color: #434B5C;\n",
              "      --hover-fill-color: #FFFFFF;\n",
              "      --disabled-bg-color: #3B4455;\n",
              "      --disabled-fill-color: #666;\n",
              "  }\n",
              "\n",
              "  .colab-df-quickchart {\n",
              "    background-color: var(--bg-color);\n",
              "    border: none;\n",
              "    border-radius: 50%;\n",
              "    cursor: pointer;\n",
              "    display: none;\n",
              "    fill: var(--fill-color);\n",
              "    height: 32px;\n",
              "    padding: 0;\n",
              "    width: 32px;\n",
              "  }\n",
              "\n",
              "  .colab-df-quickchart:hover {\n",
              "    background-color: var(--hover-bg-color);\n",
              "    box-shadow: 0 1px 2px rgba(60, 64, 67, 0.3), 0 1px 3px 1px rgba(60, 64, 67, 0.15);\n",
              "    fill: var(--button-hover-fill-color);\n",
              "  }\n",
              "\n",
              "  .colab-df-quickchart-complete:disabled,\n",
              "  .colab-df-quickchart-complete:disabled:hover {\n",
              "    background-color: var(--disabled-bg-color);\n",
              "    fill: var(--disabled-fill-color);\n",
              "    box-shadow: none;\n",
              "  }\n",
              "\n",
              "  .colab-df-spinner {\n",
              "    border: 2px solid var(--fill-color);\n",
              "    border-color: transparent;\n",
              "    border-bottom-color: var(--fill-color);\n",
              "    animation:\n",
              "      spin 1s steps(1) infinite;\n",
              "  }\n",
              "\n",
              "  @keyframes spin {\n",
              "    0% {\n",
              "      border-color: transparent;\n",
              "      border-bottom-color: var(--fill-color);\n",
              "      border-left-color: var(--fill-color);\n",
              "    }\n",
              "    20% {\n",
              "      border-color: transparent;\n",
              "      border-left-color: var(--fill-color);\n",
              "      border-top-color: var(--fill-color);\n",
              "    }\n",
              "    30% {\n",
              "      border-color: transparent;\n",
              "      border-left-color: var(--fill-color);\n",
              "      border-top-color: var(--fill-color);\n",
              "      border-right-color: var(--fill-color);\n",
              "    }\n",
              "    40% {\n",
              "      border-color: transparent;\n",
              "      border-right-color: var(--fill-color);\n",
              "      border-top-color: var(--fill-color);\n",
              "    }\n",
              "    60% {\n",
              "      border-color: transparent;\n",
              "      border-right-color: var(--fill-color);\n",
              "    }\n",
              "    80% {\n",
              "      border-color: transparent;\n",
              "      border-right-color: var(--fill-color);\n",
              "      border-bottom-color: var(--fill-color);\n",
              "    }\n",
              "    90% {\n",
              "      border-color: transparent;\n",
              "      border-bottom-color: var(--fill-color);\n",
              "    }\n",
              "  }\n",
              "</style>\n",
              "\n",
              "  <script>\n",
              "    async function quickchart(key) {\n",
              "      const quickchartButtonEl =\n",
              "        document.querySelector('#' + key + ' button');\n",
              "      quickchartButtonEl.disabled = true;  // To prevent multiple clicks.\n",
              "      quickchartButtonEl.classList.add('colab-df-spinner');\n",
              "      try {\n",
              "        const charts = await google.colab.kernel.invokeFunction(\n",
              "            'suggestCharts', [key], {});\n",
              "      } catch (error) {\n",
              "        console.error('Error during call to suggestCharts:', error);\n",
              "      }\n",
              "      quickchartButtonEl.classList.remove('colab-df-spinner');\n",
              "      quickchartButtonEl.classList.add('colab-df-quickchart-complete');\n",
              "    }\n",
              "    (() => {\n",
              "      let quickchartButtonEl =\n",
              "        document.querySelector('#df-f6dc06ac-3488-4680-bbab-8e07f76015a0 button');\n",
              "      quickchartButtonEl.style.display =\n",
              "        google.colab.kernel.accessAllowed ? 'block' : 'none';\n",
              "    })();\n",
              "  </script>\n",
              "</div>\n",
              "\n",
              "    </div>\n",
              "  </div>\n"
            ],
            "application/vnd.google.colaboratory.intrinsic+json": {
              "type": "dataframe",
              "summary": "{\n  \"name\": \"top_movies\",\n  \"rows\": 8,\n  \"fields\": [\n    {\n      \"column\": \"IMDB_Rating\",\n      \"properties\": {\n        \"dtype\": \"number\",\n        \"std\": 351.0984084543952,\n        \"min\": 0.27549120749200917,\n        \"max\": 1000.0,\n        \"num_unique_values\": 8,\n        \"samples\": [\n          7.949299999999999,\n          7.9,\n          1000.0\n        ],\n        \"semantic_type\": \"\",\n        \"description\": \"\"\n      }\n    },\n    {\n      \"column\": \"Meta_score\",\n      \"properties\": {\n        \"dtype\": \"number\",\n        \"std\": 276.71203917420195,\n        \"min\": 12.376099328602022,\n        \"max\": 843.0,\n        \"num_unique_values\": 8,\n        \"samples\": [\n          77.97153024911032,\n          79.0,\n          843.0\n        ],\n        \"semantic_type\": \"\",\n        \"description\": \"\"\n      }\n    },\n    {\n      \"column\": \"No_of_Votes\",\n      \"properties\": {\n        \"dtype\": \"number\",\n        \"std\": 781027.585788524,\n        \"min\": 1000.0,\n        \"max\": 2343110.0,\n        \"num_unique_values\": 8,\n        \"samples\": [\n          273692.911,\n          138548.5,\n          1000.0\n        ],\n        \"semantic_type\": \"\",\n        \"description\": \"\"\n      }\n    }\n  ]\n}"
            }
          },
          "metadata": {},
          "execution_count": 3
        }
      ]
    },
    {
      "cell_type": "markdown",
      "source": [
        "I also wanted to understand the data types of the variables to get an understand of which type of graphs would be suitable for my analysis."
      ],
      "metadata": {
        "id": "VsYuq2y5jOeM"
      }
    },
    {
      "cell_type": "code",
      "source": [
        "top_movies.info()"
      ],
      "metadata": {
        "colab": {
          "base_uri": "https://localhost:8080/"
        },
        "id": "TXrU1pK31g1x",
        "outputId": "a4e01a25-3c9e-4140-d87d-e8db8f796c44"
      },
      "execution_count": 7,
      "outputs": [
        {
          "output_type": "stream",
          "name": "stdout",
          "text": [
            "<class 'pandas.core.frame.DataFrame'>\n",
            "RangeIndex: 1000 entries, 0 to 999\n",
            "Data columns (total 16 columns):\n",
            " #   Column         Non-Null Count  Dtype  \n",
            "---  ------         --------------  -----  \n",
            " 0   Poster_Link    1000 non-null   object \n",
            " 1   Series_Title   1000 non-null   object \n",
            " 2   Released_Year  999 non-null    float64\n",
            " 3   Certificate    899 non-null    object \n",
            " 4   Runtime        1000 non-null   object \n",
            " 5   Genre          1000 non-null   object \n",
            " 6   IMDB_Rating    1000 non-null   float64\n",
            " 7   Overview       1000 non-null   object \n",
            " 8   Meta_score     843 non-null    float64\n",
            " 9   Director       1000 non-null   object \n",
            " 10  Star1          1000 non-null   object \n",
            " 11  Star2          1000 non-null   object \n",
            " 12  Star3          1000 non-null   object \n",
            " 13  Star4          1000 non-null   object \n",
            " 14  No_of_Votes    1000 non-null   int64  \n",
            " 15  Gross          831 non-null    float64\n",
            "dtypes: float64(4), int64(1), object(11)\n",
            "memory usage: 125.1+ KB\n"
          ]
        }
      ]
    },
    {
      "cell_type": "markdown",
      "source": [
        "I saw that the release year in the dataset was a string data type so I converted it to a numeric data type so I could then analyze the range of the release years."
      ],
      "metadata": {
        "id": "SPK6dF-KjXL1"
      }
    },
    {
      "cell_type": "code",
      "source": [
        "top_movies['Released_Year'] = pd.to_numeric(top_movies['Released_Year'], errors='coerce')"
      ],
      "metadata": {
        "id": "z_plqarAfnZZ"
      },
      "execution_count": 5,
      "outputs": []
    },
    {
      "cell_type": "code",
      "source": [
        "top_movies['Gross'] = top_movies['Gross'].str.replace(',', '')\n",
        "top_movies['Gross'] = top_movies['Gross'].astype('float64')"
      ],
      "metadata": {
        "id": "7Xn1FYX3nMfI"
      },
      "execution_count": 6,
      "outputs": []
    },
    {
      "cell_type": "markdown",
      "source": [
        "Then I saw that the `Gross` column related to the money earned from a movie, was a string so I convereted the column to a numeric data type"
      ],
      "metadata": {
        "id": "toqfkyqWoxAL"
      }
    },
    {
      "cell_type": "code",
      "source": [
        "top_movies.isnull().sum()"
      ],
      "metadata": {
        "colab": {
          "base_uri": "https://localhost:8080/",
          "height": 586
        },
        "id": "VdRRfVQw11bR",
        "outputId": "1892f543-160b-4789-cc61-62691b9d362b"
      },
      "execution_count": 8,
      "outputs": [
        {
          "output_type": "execute_result",
          "data": {
            "text/plain": [
              "Poster_Link        0\n",
              "Series_Title       0\n",
              "Released_Year      1\n",
              "Certificate      101\n",
              "Runtime            0\n",
              "Genre              0\n",
              "IMDB_Rating        0\n",
              "Overview           0\n",
              "Meta_score       157\n",
              "Director           0\n",
              "Star1              0\n",
              "Star2              0\n",
              "Star3              0\n",
              "Star4              0\n",
              "No_of_Votes        0\n",
              "Gross            169\n",
              "dtype: int64"
            ],
            "text/html": [
              "<div>\n",
              "<style scoped>\n",
              "    .dataframe tbody tr th:only-of-type {\n",
              "        vertical-align: middle;\n",
              "    }\n",
              "\n",
              "    .dataframe tbody tr th {\n",
              "        vertical-align: top;\n",
              "    }\n",
              "\n",
              "    .dataframe thead th {\n",
              "        text-align: right;\n",
              "    }\n",
              "</style>\n",
              "<table border=\"1\" class=\"dataframe\">\n",
              "  <thead>\n",
              "    <tr style=\"text-align: right;\">\n",
              "      <th></th>\n",
              "      <th>0</th>\n",
              "    </tr>\n",
              "  </thead>\n",
              "  <tbody>\n",
              "    <tr>\n",
              "      <th>Poster_Link</th>\n",
              "      <td>0</td>\n",
              "    </tr>\n",
              "    <tr>\n",
              "      <th>Series_Title</th>\n",
              "      <td>0</td>\n",
              "    </tr>\n",
              "    <tr>\n",
              "      <th>Released_Year</th>\n",
              "      <td>1</td>\n",
              "    </tr>\n",
              "    <tr>\n",
              "      <th>Certificate</th>\n",
              "      <td>101</td>\n",
              "    </tr>\n",
              "    <tr>\n",
              "      <th>Runtime</th>\n",
              "      <td>0</td>\n",
              "    </tr>\n",
              "    <tr>\n",
              "      <th>Genre</th>\n",
              "      <td>0</td>\n",
              "    </tr>\n",
              "    <tr>\n",
              "      <th>IMDB_Rating</th>\n",
              "      <td>0</td>\n",
              "    </tr>\n",
              "    <tr>\n",
              "      <th>Overview</th>\n",
              "      <td>0</td>\n",
              "    </tr>\n",
              "    <tr>\n",
              "      <th>Meta_score</th>\n",
              "      <td>157</td>\n",
              "    </tr>\n",
              "    <tr>\n",
              "      <th>Director</th>\n",
              "      <td>0</td>\n",
              "    </tr>\n",
              "    <tr>\n",
              "      <th>Star1</th>\n",
              "      <td>0</td>\n",
              "    </tr>\n",
              "    <tr>\n",
              "      <th>Star2</th>\n",
              "      <td>0</td>\n",
              "    </tr>\n",
              "    <tr>\n",
              "      <th>Star3</th>\n",
              "      <td>0</td>\n",
              "    </tr>\n",
              "    <tr>\n",
              "      <th>Star4</th>\n",
              "      <td>0</td>\n",
              "    </tr>\n",
              "    <tr>\n",
              "      <th>No_of_Votes</th>\n",
              "      <td>0</td>\n",
              "    </tr>\n",
              "    <tr>\n",
              "      <th>Gross</th>\n",
              "      <td>169</td>\n",
              "    </tr>\n",
              "  </tbody>\n",
              "</table>\n",
              "</div><br><label><b>dtype:</b> int64</label>"
            ]
          },
          "metadata": {},
          "execution_count": 8
        }
      ]
    },
    {
      "cell_type": "markdown",
      "source": [
        "I also wanted to check if there were any nulls in the data using isnull()."
      ],
      "metadata": {
        "id": "GaVyLCmSl3df"
      }
    },
    {
      "cell_type": "code",
      "source": [
        "imdb_top_1000 = top_movies[['Genre', 'Released_Year', 'IMDB_Rating', 'Director', 'Gross']]\n",
        "imdb_top_1000.head()"
      ],
      "metadata": {
        "colab": {
          "base_uri": "https://localhost:8080/",
          "height": 206
        },
        "id": "xAOyW5LrtPPB",
        "outputId": "d946d012-ecde-4868-c93f-436de4fce20e"
      },
      "execution_count": 15,
      "outputs": [
        {
          "output_type": "execute_result",
          "data": {
            "text/plain": [
              "                  Genre  Released_Year  IMDB_Rating              Director  \\\n",
              "0                 Drama         1994.0          9.3        Frank Darabont   \n",
              "1          Crime, Drama         1972.0          9.2  Francis Ford Coppola   \n",
              "2  Action, Crime, Drama         2008.0          9.0     Christopher Nolan   \n",
              "3          Crime, Drama         1974.0          9.0  Francis Ford Coppola   \n",
              "4          Crime, Drama         1957.0          9.0          Sidney Lumet   \n",
              "\n",
              "         Gross  \n",
              "0   28341469.0  \n",
              "1  134966411.0  \n",
              "2  534858444.0  \n",
              "3   57300000.0  \n",
              "4    4360000.0  "
            ],
            "text/html": [
              "\n",
              "  <div id=\"df-9f4e3ead-7449-47e4-8946-978a851a2f21\" class=\"colab-df-container\">\n",
              "    <div>\n",
              "<style scoped>\n",
              "    .dataframe tbody tr th:only-of-type {\n",
              "        vertical-align: middle;\n",
              "    }\n",
              "\n",
              "    .dataframe tbody tr th {\n",
              "        vertical-align: top;\n",
              "    }\n",
              "\n",
              "    .dataframe thead th {\n",
              "        text-align: right;\n",
              "    }\n",
              "</style>\n",
              "<table border=\"1\" class=\"dataframe\">\n",
              "  <thead>\n",
              "    <tr style=\"text-align: right;\">\n",
              "      <th></th>\n",
              "      <th>Genre</th>\n",
              "      <th>Released_Year</th>\n",
              "      <th>IMDB_Rating</th>\n",
              "      <th>Director</th>\n",
              "      <th>Gross</th>\n",
              "    </tr>\n",
              "  </thead>\n",
              "  <tbody>\n",
              "    <tr>\n",
              "      <th>0</th>\n",
              "      <td>Drama</td>\n",
              "      <td>1994.0</td>\n",
              "      <td>9.3</td>\n",
              "      <td>Frank Darabont</td>\n",
              "      <td>28341469.0</td>\n",
              "    </tr>\n",
              "    <tr>\n",
              "      <th>1</th>\n",
              "      <td>Crime, Drama</td>\n",
              "      <td>1972.0</td>\n",
              "      <td>9.2</td>\n",
              "      <td>Francis Ford Coppola</td>\n",
              "      <td>134966411.0</td>\n",
              "    </tr>\n",
              "    <tr>\n",
              "      <th>2</th>\n",
              "      <td>Action, Crime, Drama</td>\n",
              "      <td>2008.0</td>\n",
              "      <td>9.0</td>\n",
              "      <td>Christopher Nolan</td>\n",
              "      <td>534858444.0</td>\n",
              "    </tr>\n",
              "    <tr>\n",
              "      <th>3</th>\n",
              "      <td>Crime, Drama</td>\n",
              "      <td>1974.0</td>\n",
              "      <td>9.0</td>\n",
              "      <td>Francis Ford Coppola</td>\n",
              "      <td>57300000.0</td>\n",
              "    </tr>\n",
              "    <tr>\n",
              "      <th>4</th>\n",
              "      <td>Crime, Drama</td>\n",
              "      <td>1957.0</td>\n",
              "      <td>9.0</td>\n",
              "      <td>Sidney Lumet</td>\n",
              "      <td>4360000.0</td>\n",
              "    </tr>\n",
              "  </tbody>\n",
              "</table>\n",
              "</div>\n",
              "    <div class=\"colab-df-buttons\">\n",
              "\n",
              "  <div class=\"colab-df-container\">\n",
              "    <button class=\"colab-df-convert\" onclick=\"convertToInteractive('df-9f4e3ead-7449-47e4-8946-978a851a2f21')\"\n",
              "            title=\"Convert this dataframe to an interactive table.\"\n",
              "            style=\"display:none;\">\n",
              "\n",
              "  <svg xmlns=\"http://www.w3.org/2000/svg\" height=\"24px\" viewBox=\"0 -960 960 960\">\n",
              "    <path d=\"M120-120v-720h720v720H120Zm60-500h600v-160H180v160Zm220 220h160v-160H400v160Zm0 220h160v-160H400v160ZM180-400h160v-160H180v160Zm440 0h160v-160H620v160ZM180-180h160v-160H180v160Zm440 0h160v-160H620v160Z\"/>\n",
              "  </svg>\n",
              "    </button>\n",
              "\n",
              "  <style>\n",
              "    .colab-df-container {\n",
              "      display:flex;\n",
              "      gap: 12px;\n",
              "    }\n",
              "\n",
              "    .colab-df-convert {\n",
              "      background-color: #E8F0FE;\n",
              "      border: none;\n",
              "      border-radius: 50%;\n",
              "      cursor: pointer;\n",
              "      display: none;\n",
              "      fill: #1967D2;\n",
              "      height: 32px;\n",
              "      padding: 0 0 0 0;\n",
              "      width: 32px;\n",
              "    }\n",
              "\n",
              "    .colab-df-convert:hover {\n",
              "      background-color: #E2EBFA;\n",
              "      box-shadow: 0px 1px 2px rgba(60, 64, 67, 0.3), 0px 1px 3px 1px rgba(60, 64, 67, 0.15);\n",
              "      fill: #174EA6;\n",
              "    }\n",
              "\n",
              "    .colab-df-buttons div {\n",
              "      margin-bottom: 4px;\n",
              "    }\n",
              "\n",
              "    [theme=dark] .colab-df-convert {\n",
              "      background-color: #3B4455;\n",
              "      fill: #D2E3FC;\n",
              "    }\n",
              "\n",
              "    [theme=dark] .colab-df-convert:hover {\n",
              "      background-color: #434B5C;\n",
              "      box-shadow: 0px 1px 3px 1px rgba(0, 0, 0, 0.15);\n",
              "      filter: drop-shadow(0px 1px 2px rgba(0, 0, 0, 0.3));\n",
              "      fill: #FFFFFF;\n",
              "    }\n",
              "  </style>\n",
              "\n",
              "    <script>\n",
              "      const buttonEl =\n",
              "        document.querySelector('#df-9f4e3ead-7449-47e4-8946-978a851a2f21 button.colab-df-convert');\n",
              "      buttonEl.style.display =\n",
              "        google.colab.kernel.accessAllowed ? 'block' : 'none';\n",
              "\n",
              "      async function convertToInteractive(key) {\n",
              "        const element = document.querySelector('#df-9f4e3ead-7449-47e4-8946-978a851a2f21');\n",
              "        const dataTable =\n",
              "          await google.colab.kernel.invokeFunction('convertToInteractive',\n",
              "                                                    [key], {});\n",
              "        if (!dataTable) return;\n",
              "\n",
              "        const docLinkHtml = 'Like what you see? Visit the ' +\n",
              "          '<a target=\"_blank\" href=https://colab.research.google.com/notebooks/data_table.ipynb>data table notebook</a>'\n",
              "          + ' to learn more about interactive tables.';\n",
              "        element.innerHTML = '';\n",
              "        dataTable['output_type'] = 'display_data';\n",
              "        await google.colab.output.renderOutput(dataTable, element);\n",
              "        const docLink = document.createElement('div');\n",
              "        docLink.innerHTML = docLinkHtml;\n",
              "        element.appendChild(docLink);\n",
              "      }\n",
              "    </script>\n",
              "  </div>\n",
              "\n",
              "\n",
              "<div id=\"df-005a9ef9-f952-4241-a315-be581e2aa9b6\">\n",
              "  <button class=\"colab-df-quickchart\" onclick=\"quickchart('df-005a9ef9-f952-4241-a315-be581e2aa9b6')\"\n",
              "            title=\"Suggest charts\"\n",
              "            style=\"display:none;\">\n",
              "\n",
              "<svg xmlns=\"http://www.w3.org/2000/svg\" height=\"24px\"viewBox=\"0 0 24 24\"\n",
              "     width=\"24px\">\n",
              "    <g>\n",
              "        <path d=\"M19 3H5c-1.1 0-2 .9-2 2v14c0 1.1.9 2 2 2h14c1.1 0 2-.9 2-2V5c0-1.1-.9-2-2-2zM9 17H7v-7h2v7zm4 0h-2V7h2v10zm4 0h-2v-4h2v4z\"/>\n",
              "    </g>\n",
              "</svg>\n",
              "  </button>\n",
              "\n",
              "<style>\n",
              "  .colab-df-quickchart {\n",
              "      --bg-color: #E8F0FE;\n",
              "      --fill-color: #1967D2;\n",
              "      --hover-bg-color: #E2EBFA;\n",
              "      --hover-fill-color: #174EA6;\n",
              "      --disabled-fill-color: #AAA;\n",
              "      --disabled-bg-color: #DDD;\n",
              "  }\n",
              "\n",
              "  [theme=dark] .colab-df-quickchart {\n",
              "      --bg-color: #3B4455;\n",
              "      --fill-color: #D2E3FC;\n",
              "      --hover-bg-color: #434B5C;\n",
              "      --hover-fill-color: #FFFFFF;\n",
              "      --disabled-bg-color: #3B4455;\n",
              "      --disabled-fill-color: #666;\n",
              "  }\n",
              "\n",
              "  .colab-df-quickchart {\n",
              "    background-color: var(--bg-color);\n",
              "    border: none;\n",
              "    border-radius: 50%;\n",
              "    cursor: pointer;\n",
              "    display: none;\n",
              "    fill: var(--fill-color);\n",
              "    height: 32px;\n",
              "    padding: 0;\n",
              "    width: 32px;\n",
              "  }\n",
              "\n",
              "  .colab-df-quickchart:hover {\n",
              "    background-color: var(--hover-bg-color);\n",
              "    box-shadow: 0 1px 2px rgba(60, 64, 67, 0.3), 0 1px 3px 1px rgba(60, 64, 67, 0.15);\n",
              "    fill: var(--button-hover-fill-color);\n",
              "  }\n",
              "\n",
              "  .colab-df-quickchart-complete:disabled,\n",
              "  .colab-df-quickchart-complete:disabled:hover {\n",
              "    background-color: var(--disabled-bg-color);\n",
              "    fill: var(--disabled-fill-color);\n",
              "    box-shadow: none;\n",
              "  }\n",
              "\n",
              "  .colab-df-spinner {\n",
              "    border: 2px solid var(--fill-color);\n",
              "    border-color: transparent;\n",
              "    border-bottom-color: var(--fill-color);\n",
              "    animation:\n",
              "      spin 1s steps(1) infinite;\n",
              "  }\n",
              "\n",
              "  @keyframes spin {\n",
              "    0% {\n",
              "      border-color: transparent;\n",
              "      border-bottom-color: var(--fill-color);\n",
              "      border-left-color: var(--fill-color);\n",
              "    }\n",
              "    20% {\n",
              "      border-color: transparent;\n",
              "      border-left-color: var(--fill-color);\n",
              "      border-top-color: var(--fill-color);\n",
              "    }\n",
              "    30% {\n",
              "      border-color: transparent;\n",
              "      border-left-color: var(--fill-color);\n",
              "      border-top-color: var(--fill-color);\n",
              "      border-right-color: var(--fill-color);\n",
              "    }\n",
              "    40% {\n",
              "      border-color: transparent;\n",
              "      border-right-color: var(--fill-color);\n",
              "      border-top-color: var(--fill-color);\n",
              "    }\n",
              "    60% {\n",
              "      border-color: transparent;\n",
              "      border-right-color: var(--fill-color);\n",
              "    }\n",
              "    80% {\n",
              "      border-color: transparent;\n",
              "      border-right-color: var(--fill-color);\n",
              "      border-bottom-color: var(--fill-color);\n",
              "    }\n",
              "    90% {\n",
              "      border-color: transparent;\n",
              "      border-bottom-color: var(--fill-color);\n",
              "    }\n",
              "  }\n",
              "</style>\n",
              "\n",
              "  <script>\n",
              "    async function quickchart(key) {\n",
              "      const quickchartButtonEl =\n",
              "        document.querySelector('#' + key + ' button');\n",
              "      quickchartButtonEl.disabled = true;  // To prevent multiple clicks.\n",
              "      quickchartButtonEl.classList.add('colab-df-spinner');\n",
              "      try {\n",
              "        const charts = await google.colab.kernel.invokeFunction(\n",
              "            'suggestCharts', [key], {});\n",
              "      } catch (error) {\n",
              "        console.error('Error during call to suggestCharts:', error);\n",
              "      }\n",
              "      quickchartButtonEl.classList.remove('colab-df-spinner');\n",
              "      quickchartButtonEl.classList.add('colab-df-quickchart-complete');\n",
              "    }\n",
              "    (() => {\n",
              "      let quickchartButtonEl =\n",
              "        document.querySelector('#df-005a9ef9-f952-4241-a315-be581e2aa9b6 button');\n",
              "      quickchartButtonEl.style.display =\n",
              "        google.colab.kernel.accessAllowed ? 'block' : 'none';\n",
              "    })();\n",
              "  </script>\n",
              "</div>\n",
              "\n",
              "    </div>\n",
              "  </div>\n"
            ],
            "application/vnd.google.colaboratory.intrinsic+json": {
              "type": "dataframe",
              "variable_name": "imdb_top_1000",
              "summary": "{\n  \"name\": \"imdb_top_1000\",\n  \"rows\": 1000,\n  \"fields\": [\n    {\n      \"column\": \"Genre\",\n      \"properties\": {\n        \"dtype\": \"category\",\n        \"num_unique_values\": 202,\n        \"samples\": [\n          \"Comedy, Drama, Fantasy\",\n          \"Crime, Drama, Fantasy\",\n          \"Drama, Romance, War\"\n        ],\n        \"semantic_type\": \"\",\n        \"description\": \"\"\n      }\n    },\n    {\n      \"column\": \"Released_Year\",\n      \"properties\": {\n        \"dtype\": \"number\",\n        \"std\": 23.2970248443242,\n        \"min\": 1920.0,\n        \"max\": 2020.0,\n        \"num_unique_values\": 99,\n        \"samples\": [\n          1952.0,\n          2009.0,\n          1933.0\n        ],\n        \"semantic_type\": \"\",\n        \"description\": \"\"\n      }\n    },\n    {\n      \"column\": \"IMDB_Rating\",\n      \"properties\": {\n        \"dtype\": \"number\",\n        \"std\": 0.27549120749200917,\n        \"min\": 7.6,\n        \"max\": 9.3,\n        \"num_unique_values\": 17,\n        \"samples\": [\n          9.3,\n          9.2,\n          8.7\n        ],\n        \"semantic_type\": \"\",\n        \"description\": \"\"\n      }\n    },\n    {\n      \"column\": \"Director\",\n      \"properties\": {\n        \"dtype\": \"string\",\n        \"num_unique_values\": 548,\n        \"samples\": [\n          \"Satoshi Kon\",\n          \"David Lean\",\n          \"Yilmaz Erdogan\"\n        ],\n        \"semantic_type\": \"\",\n        \"description\": \"\"\n      }\n    },\n    {\n      \"column\": \"Gross\",\n      \"properties\": {\n        \"dtype\": \"number\",\n        \"std\": 109750043.19218516,\n        \"min\": 1305.0,\n        \"max\": 936662225.0,\n        \"num_unique_values\": 823,\n        \"samples\": [\n          132092958.0,\n          67209615.0,\n          78900000.0\n        ],\n        \"semantic_type\": \"\",\n        \"description\": \"\"\n      }\n    }\n  ]\n}"
            }
          },
          "metadata": {},
          "execution_count": 15
        }
      ]
    },
    {
      "cell_type": "code",
      "source": [
        "ratings = imdb_top_1000['IMDB_Rating'].to_numpy()\n",
        "print(np.mean(ratings))"
      ],
      "metadata": {
        "colab": {
          "base_uri": "https://localhost:8080/"
        },
        "id": "3Ft-9Ib4c3rd",
        "outputId": "c0868200-56d1-4508-e450-8dc8d93c2346"
      },
      "execution_count": 16,
      "outputs": [
        {
          "output_type": "stream",
          "name": "stdout",
          "text": [
            "7.949299999999999\n"
          ]
        }
      ]
    },
    {
      "cell_type": "markdown",
      "source": [
        "Using numpy I looked into the average movie popularity score from the top 1000 movies in the dataset"
      ],
      "metadata": {
        "id": "X1VzyYxrpdQ-"
      }
    },
    {
      "cell_type": "code",
      "source": [
        "release_year = imdb_top_1000['Released_Year']\n",
        "print(max(release_year), min(release_year))"
      ],
      "metadata": {
        "colab": {
          "base_uri": "https://localhost:8080/"
        },
        "id": "otA4nhzpf82a",
        "outputId": "f418f9e6-976f-40d2-9d6b-aea4f4cacd85"
      },
      "execution_count": 18,
      "outputs": [
        {
          "output_type": "stream",
          "name": "stdout",
          "text": [
            "2020.0 1920.0\n"
          ]
        }
      ]
    },
    {
      "cell_type": "markdown",
      "source": [
        "Then, I was able to find the range of the movie release years being between 1920 and 2020 for the top 1000 movies in IMDb."
      ],
      "metadata": {
        "id": "WXqyZ0RrslbP"
      }
    },
    {
      "cell_type": "code",
      "source": [
        "# I am splitting the genres and using explode to count individual genres\n",
        "imdb_top_1000['genre_split'] = imdb_top_1000['Genre'].str.split(', ')\n",
        "genre_exp = imdb_top_1000.explode('genre_split')\n",
        "\n",
        "# I am counting the frequency for  each genre\n",
        "genre_counts = genre_exp['genre_split'].value_counts()\n",
        "\n",
        "# I am pulling the top 5 genres and sorting the genres\n",
        "top_5_movie_genres = genre_counts.head().sort_values(ascending=True)\n",
        "\n",
        "plt.figure(figsize=(12, 6))\n",
        "plt.barh(y=top_5_movie_genres.index, width=top_5_movie_genres.values, color=\t\"#F5C518\")\n",
        "plt.xlabel('Count')\n",
        "plt.ylabel('Genre')\n",
        "plt.title('Top 5 Movie Genres')\n",
        "plt.show()"
      ],
      "metadata": {
        "colab": {
          "base_uri": "https://localhost:8080/",
          "height": 671
        },
        "id": "dsrIW4_Kwj8r",
        "outputId": "a6fc12ae-cea3-4d8b-a633-a60b8025dc89"
      },
      "execution_count": 60,
      "outputs": [
        {
          "output_type": "stream",
          "name": "stderr",
          "text": [
            "<ipython-input-60-4339d61a2daa>:2: SettingWithCopyWarning: \n",
            "A value is trying to be set on a copy of a slice from a DataFrame.\n",
            "Try using .loc[row_indexer,col_indexer] = value instead\n",
            "\n",
            "See the caveats in the documentation: https://pandas.pydata.org/pandas-docs/stable/user_guide/indexing.html#returning-a-view-versus-a-copy\n",
            "  imdb_top_1000['genre_split'] = imdb_top_1000['Genre'].str.split(', ')\n"
          ]
        },
        {
          "output_type": "display_data",
          "data": {
            "text/plain": [
              "<Figure size 1200x600 with 1 Axes>"
            ],
            "image/png": "[encoded data removed]"
          },
          "metadata": {}
        }
      ]
    },
    {
      "cell_type": "markdown",
      "source": [
        "I wanted to start by looking at the top 5 genres where most of the top 1000 movies in IMDb fall under best shown in a horizontal bar graph. We can see that Drama is the genre has the highest number of movies in comparison to Comedy, Crime, Adventure, and Action."
      ],
      "metadata": {
        "id": "Q5JCKA8qJEr6"
      }
    },
    {
      "cell_type": "code",
      "source": [
        "# I am counting the frequency for Director\n",
        "Director_counts = imdb_top_1000['Director'].value_counts()\n",
        "\n",
        "# I am pulling the top 5 Directors\n",
        "top_5_Directors = Director_counts.head().sort_values(ascending=True)\n",
        "\n",
        "plt.figure(figsize=(12, 6))\n",
        "plt.barh(y=top_5_Directors.index, width=top_5_Directors.values, color=\"#F5C518\")\n",
        "plt.xlabel('Count')\n",
        "plt.ylabel('Director')\n",
        "plt.title('Top 5 Movie Directors')\n",
        "plt.show()"
      ],
      "metadata": {
        "colab": {
          "base_uri": "https://localhost:8080/",
          "height": 564
        },
        "id": "rx910ByI3gsa",
        "outputId": "06a90211-c2ce-4b6c-ff87-ca1512eb624a"
      },
      "execution_count": 78,
      "outputs": [
        {
          "output_type": "display_data",
          "data": {
            "text/plain": [
              "<Figure size 1200x600 with 1 Axes>"
            ],
            "image/png": "[encoded data removed]"
          },
          "metadata": {}
        }
      ]
    },
    {
      "cell_type": "markdown",
      "source": [
        "Then, I wanted to take a look at the top 5 directors that took part in the creation of the top 1000 movies in IMDb best shown as a horizontal bar graph. We can see that Alfred Hitchcock has the highest number of movies in which he particpated as the director following closely with Steven Spielberg."
      ],
      "metadata": {
        "id": "56AAUo59Kh-E"
      }
    },
    {
      "cell_type": "code",
      "source": [
        "# I am calculating the count of movies for each director and select the top 5\n",
        "top_5_directors = imdb_top_1000['Director'].value_counts().head().index\n",
        "\n",
        "# I am filtering the dataset for the top 5 directors\n",
        "imdb_top_5 = imdb_top_1000[imdb_top_1000['Director'].isin(top_5_directors)].sort_values(by=['Director'],ascending=False)\n",
        "\n",
        "# Plot the boxplot for the top 5 directors\n",
        "plt.figure(figsize=(15,10))\n",
        "sns.boxplot(x='Director', y='IMDB_Rating', data=imdb_top_5, color=\"#F5C518\")\n",
        "plt.xlabel('Director')\n",
        "plt.ylabel('IMDB_Rating')\n",
        "plt.title('IMDb Rating Distribution by Top 5 Directors')\n",
        "plt.show()"
      ],
      "metadata": {
        "colab": {
          "base_uri": "https://localhost:8080/",
          "height": 872
        },
        "id": "deyWLAlL4T5v",
        "outputId": "b71d841a-f913-45a2-b5a9-31bcb474726b"
      },
      "execution_count": 75,
      "outputs": [
        {
          "output_type": "display_data",
          "data": {
            "text/plain": [
              "<Figure size 1500x1000 with 1 Axes>"
            ],
            "image/png": "[encoded data removed]"
          },
          "metadata": {}
        }
      ]
    },
    {
      "cell_type": "markdown",
      "source": [
        "Then, with the top 5 directors, I wanted to see how the distribution of the movie popularity score compared for all movies in which each of the directors participated in. Thereby, I believed a Boxplot would best show the variability and add another layer of analysis. We can see that Steven Spielberg has the highest variability in the movie popularity score and the median being a score of 8 is higher than the median that Alfred Hitchcock has despite Alfred Hitchcock particpating in more movies as a director."
      ],
      "metadata": {
        "id": "jJDMTfD5LAB3"
      }
    },
    {
      "cell_type": "code",
      "source": [
        "# I am calculating the count of movies for each director and select the top 5\n",
        "top_5_directors = imdb_top_1000['Director'].value_counts().head().index\n",
        "\n",
        "\n",
        "# I am filtering the dataset for the top 5 directors\n",
        "imdb_top_5 = imdb_top_1000[imdb_top_1000['Director'].isin(top_5_directors)].sort_values(by=['Director'],ascending=False)\n",
        "\n",
        "\n",
        "# Plot the barplot for the top 5 directors\n",
        "plt.figure(figsize=(15,10))\n",
        "sns.barplot(x='Director', y='Gross', data=imdb_top_5, color=\"#F5C518\")\n",
        "plt.xlabel('Director')\n",
        "plt.ylabel('Gross Movie Earning')\n",
        "plt.title('Total Gross Movie Earnings by the Top 5 Directors')\n",
        "plt.show()"
      ],
      "metadata": {
        "colab": {
          "base_uri": "https://localhost:8080/",
          "height": 872
        },
        "id": "fY8EmmLK58v2",
        "outputId": "77a0ae0e-09e8-4bfa-eb7a-e8d57a7da2f4"
      },
      "execution_count": 74,
      "outputs": [
        {
          "output_type": "display_data",
          "data": {
            "text/plain": [
              "<Figure size 1500x1000 with 1 Axes>"
            ],
            "image/png": "[encoded data removed]"
          },
          "metadata": {}
        }
      ]
    },
    {
      "cell_type": "markdown",
      "source": [
        "Finally, I chose to look at the total gross earnings that the top 5 directors had for the movies they participated in, best shown as a vertical bar graph for visual comparison. We can see that Steven Spielberg has partipcated in movies that attributed to the highest total movie earnings in his role as Director as opposed to Alfred Hitchcock who as we saw previously has more movie partipations as Director."
      ],
      "metadata": {
        "id": "DBR3BOilMSwi"
      }
    },
    {
      "cell_type": "markdown",
      "source": [
        "## Simulate a nonparametric inference of the Median for the IMDb Ratings variable in the Top 1000 IMDb Movies Dataset"
      ],
      "metadata": {
        "id": "Bp79oPwtNE0-"
      }
    },
    {
      "cell_type": "code",
      "source": [
        "# I am taking a 10% sample of the IMDb Ratings column (currently there are 1000 rows in the dataset overall)\n",
        "imdb_ratings = imdb_top_1000['IMDB_Rating'].sample(n=100)\n",
        "np.median(imdb_ratings)"
      ],
      "metadata": {
        "colab": {
          "base_uri": "https://localhost:8080/"
        },
        "id": "mPetkE1DD0c9",
        "outputId": "ac1fb21e-ccd1-434f-af49-64a7e969a579"
      },
      "execution_count": 83,
      "outputs": [
        {
          "output_type": "execute_result",
          "data": {
            "text/plain": [
              "np.float64(7.9)"
            ]
          },
          "metadata": {},
          "execution_count": 83
        }
      ]
    },
    {
      "cell_type": "code",
      "source": [
        "median_imdb_rating_boot_samples = []\n",
        "for i in range(10000):\n",
        "                boot_sample = np.random.choice(imdb_ratings, 100)\n",
        "                median_imdb_rating_boot_samples.append(np.median(boot_sample))\n",
        "\n",
        "np.mean(median_imdb_rating_boot_samples)"
      ],
      "metadata": {
        "colab": {
          "base_uri": "https://localhost:8080/"
        },
        "id": "GNzpMrccHjoz",
        "outputId": "c615cd95-2788-49f7-8949-a623cc5b4707"
      },
      "execution_count": 85,
      "outputs": [
        {
          "output_type": "execute_result",
          "data": {
            "text/plain": [
              "np.float64(7.888890000000001)"
            ]
          },
          "metadata": {},
          "execution_count": 85
        }
      ]
    },
    {
      "cell_type": "code",
      "source": [
        "conf_int = np.percentile(median_imdb_rating_boot_samples, [2.5, 97.5]) # The middle 95% interval\n",
        "conf_int"
      ],
      "metadata": {
        "colab": {
          "base_uri": "https://localhost:8080/"
        },
        "id": "Je9XwBYFH51e",
        "outputId": "534d2f40-40ac-4ab1-9313-d8babb97561e"
      },
      "execution_count": 86,
      "outputs": [
        {
          "output_type": "execute_result",
          "data": {
            "text/plain": [
              "array([7.8, 8. ])"
            ]
          },
          "metadata": {},
          "execution_count": 86
        }
      ]
    },
    {
      "cell_type": "code",
      "source": [
        "#I am plotting the result\n",
        "sns.kdeplot(median_imdb_rating_boot_samples)\n",
        "for endpoint in conf_int:\n",
        "    plt.axvline(endpoint, color='red')"
      ],
      "metadata": {
        "colab": {
          "base_uri": "https://localhost:8080/",
          "height": 430
        },
        "id": "GUlG2nmaITm4",
        "outputId": "b5de4187-3d1f-43d9-8f16-559b6283ec71"
      },
      "execution_count": 87,
      "outputs": [
        {
          "output_type": "display_data",
          "data": {
            "text/plain": [
              "<Figure size 640x480 with 1 Axes>"
            ],
            "image/png": "[encoded data removed]"
          },
          "metadata": {}
        }
      ]
    },
    {
      "cell_type": "markdown",
      "source": [
        "## Conclusion:\n",
        "\n",
        "We were able to look at the most popular genres within the Top 1000 movies in IMDb being Drama, Comedy, Crime, Adventure, and Action. Then, we were able to see that top 5 movie directors which were Alfred Hitchcock, Steven Spielberg, Hayao Miyazaki, Martin Scorsese, and Akira Kurosawa. However, in going into the layers of the movie features we were able to see that there were some discrepancies between movie partipation and movie popularity, along with movie earnings. This made the answer to the second question become inconclusive needing more research and analysis as we were not able to see consistency in director's role in a movie's popularity. Currently we can probably conclude that not only one factor or attribute of a movie contributes to its success and popularity. In the future, what could be explored further would be the types of genre that those top 5 movie director partipated in individually along with looking at the actors role in a movie's popularity."
      ],
      "metadata": {
        "id": "ea9Lf-H-NhDi"
      }
    }
  ]
}